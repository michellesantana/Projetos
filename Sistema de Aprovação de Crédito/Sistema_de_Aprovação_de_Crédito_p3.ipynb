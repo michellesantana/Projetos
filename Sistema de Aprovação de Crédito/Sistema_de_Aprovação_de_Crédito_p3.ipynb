{
  "nbformat": 4,
  "nbformat_minor": 0,
  "metadata": {
    "colab": {
      "name": "Sistema_de_Aprovação_de_Crédito_p3.ipynb",
      "provenance": [],
      "collapsed_sections": [],
      "toc_visible": true
    },
    "kernelspec": {
      "name": "python3",
      "display_name": "Python 3"
    }
  },
  "cells": [
    {
      "cell_type": "markdown",
      "metadata": {
        "id": "WHSU8NShZedN"
      },
      "source": [
        "![alt text](https://encrypted-tbn0.gstatic.com/images?q=tbn%3AANd9GcTK4gQ9nhwHHaSXMHpeggWg7twwMCgb877smkRmtkmDeDoGF9Z6&usqp=CAU)"
      ]
    },
    {
      "cell_type": "markdown",
      "metadata": {
        "id": "7oiQVQi0AJ6D"
      },
      "source": [
        "# <font color='Blue'>Maratona Cientista de Dados na Prática</font>\n",
        "\n",
        "### <font color='GREY'> SAE - Sistema de Aprovação de Empréstimos </font>  \n",
        "\n",
        "![](https://i.gifer.com/MKsN.gif)\n",
        "\n",
        "\n"
      ]
    },
    {
      "cell_type": "markdown",
      "metadata": {
        "id": "PpHbZsBZ2aDB"
      },
      "source": [
        "# <font color='Black'> **Aula 3 - Criando uma Aplicação WEB com sua Máquina Preditiva** </font>\n",
        "\n"
      ]
    },
    {
      "cell_type": "markdown",
      "metadata": {
        "id": "LI4TUsUJ0u66"
      },
      "source": [
        "# <font color='Blue'>6° Implementando a Maquina Preditiva  para a Fintech Crédito Fácil</font>\n",
        "![](https://buhgalteru.kz/wp-content/uploads/2020/09/robot.gif)\n"
      ]
    },
    {
      "cell_type": "markdown",
      "metadata": {
        "id": "kEUIRvSlVy4H"
      },
      "source": [
        "![](https://cienciadosdados.com/images/2021/Design_sem_nome_10.png)"
      ]
    },
    {
      "cell_type": "markdown",
      "metadata": {
        "id": "l8D_ZDsg9vVA"
      },
      "source": [
        "### **Guia Passo a Passo** para Implementação do Sistema de Aprovação de Empréstimo Online:"
      ]
    },
    {
      "cell_type": "markdown",
      "metadata": {
        "id": "BWnqIW7vWONv"
      },
      "source": [
        "###### **Observação**: Caso não esteja fazendo as aulas sequencialmente e tenha desligado a sessão no Colab, reexecute o Script abaixo antes de ir para o 1°Passo."
      ]
    },
    {
      "cell_type": "code",
      "metadata": {
        "id": "c6kMyerHB4tv"
      },
      "source": [
        "## Pacotes\n",
        "import pandas as pd     #Biblioteca de Funções de Manipulação de Dados\n",
        "import seaborn as sns   #Biblioteca de Funções de Visualização Gráfica\n",
        "import warnings\n",
        "warnings.filterwarnings(\"ignore\")\n",
        "\n",
        "#Importação dos Dados\n",
        "clientes = pd.read_csv('/content/clientes.csv')\n",
        "\n",
        "#Substituindo caracteres por números\n",
        "clientes['sexo']= clientes['sexo'].map({'Male':0, 'Female':1})\n",
        "clientes['estado_civil']= clientes['estado_civil'].map({'No':0, 'Yes':1})\n",
        "clientes['aprovacao_emprestimo']= clientes['aprovacao_emprestimo'].map({'N':0, 'Y':1})\n",
        "\n",
        "# Eliminando valores Nulos\n",
        "clientes = clientes.dropna()\n",
        "\n",
        "# Separando variáveis Explicativas e Variável TARGET\n",
        "X = clientes[['sexo', 'estado_civil', 'renda', 'emprestimo', 'historico_credito']]\n",
        "y = clientes.aprovacao_emprestimo\n",
        "X.shape, y.shape\n",
        "\n",
        "# importando Pacote para Amostragem dos Dados\n",
        "from sklearn.model_selection import train_test_split\n",
        "\n",
        "# Realizando Amostragem dosa Dados\n",
        "x_train, x_teste, y_train, y_teste = train_test_split(X,y, test_size = 0.2, random_state = 7)\n",
        "\n",
        "#Importando Pacotes para Construção das Máquinas Preditivas com Machine Learning\n",
        "\n",
        "## Algoritmo Random Forest\n",
        "from sklearn.ensemble import RandomForestClassifier \n",
        "\n",
        "#Importando a Métrica de Avaliação\n",
        "from sklearn.metrics import accuracy_score\n",
        "\n",
        "# Criando a Máquina Preditiva com o Random Forest \n",
        "maquina = RandomForestClassifier(max_depth=4, random_state = 7) \n",
        "maquina.fit(x_train, y_train)\n",
        "\n",
        "#Avaliando a Acurácia da Máquina Preditiva Baseline com dados de Teste\n",
        "pred_maquina_teste = maquina.predict(x_teste)\n",
        "accuracy_score(y_teste,pred_maquina_teste)\n",
        "\n",
        "#Comando de Salvamento da Máquina Preditiva\n",
        "import pickle \n",
        "pickle_out = open(\"maquina_preditiva.pkl\", mode = \"wb\") \n",
        "pickle.dump(maquina, pickle_out) \n",
        "pickle_out.close()"
      ],
      "execution_count": 1,
      "outputs": []
    },
    {
      "cell_type": "markdown",
      "metadata": {
        "id": "eZ5JvDVuw1Eq"
      },
      "source": [
        "##1° Instalar o Pacote para Conexão do nosso Sistema na WEB"
      ]
    },
    {
      "cell_type": "code",
      "metadata": {
        "id": "SSaPBHuDDwx3",
        "colab": {
          "base_uri": "https://localhost:8080/"
        },
        "outputId": "3b3a9e4e-2770-45dd-fc80-52335701e65d"
      },
      "source": [
        "#instalação do Pacote para Conexão do nosso Sistema na WEB \n",
        "!pip install -q pyngrok\n"
      ],
      "execution_count": 2,
      "outputs": [
        {
          "output_type": "stream",
          "text": [
            "\u001b[?25l\r\u001b[K     |▍                               | 10kB 19.2MB/s eta 0:00:01\r\u001b[K     |▉                               | 20kB 21.9MB/s eta 0:00:01\r\u001b[K     |█▎                              | 30kB 10.8MB/s eta 0:00:01\r\u001b[K     |█▊                              | 40kB 8.5MB/s eta 0:00:01\r\u001b[K     |██▏                             | 51kB 7.0MB/s eta 0:00:01\r\u001b[K     |██▋                             | 61kB 7.2MB/s eta 0:00:01\r\u001b[K     |███                             | 71kB 8.0MB/s eta 0:00:01\r\u001b[K     |███▌                            | 81kB 7.6MB/s eta 0:00:01\r\u001b[K     |████                            | 92kB 7.4MB/s eta 0:00:01\r\u001b[K     |████▍                           | 102kB 6.8MB/s eta 0:00:01\r\u001b[K     |████▉                           | 112kB 6.8MB/s eta 0:00:01\r\u001b[K     |█████▎                          | 122kB 6.8MB/s eta 0:00:01\r\u001b[K     |█████▊                          | 133kB 6.8MB/s eta 0:00:01\r\u001b[K     |██████▏                         | 143kB 6.8MB/s eta 0:00:01\r\u001b[K     |██████▋                         | 153kB 6.8MB/s eta 0:00:01\r\u001b[K     |███████                         | 163kB 6.8MB/s eta 0:00:01\r\u001b[K     |███████▌                        | 174kB 6.8MB/s eta 0:00:01\r\u001b[K     |████████                        | 184kB 6.8MB/s eta 0:00:01\r\u001b[K     |████████▍                       | 194kB 6.8MB/s eta 0:00:01\r\u001b[K     |████████▉                       | 204kB 6.8MB/s eta 0:00:01\r\u001b[K     |█████████▎                      | 215kB 6.8MB/s eta 0:00:01\r\u001b[K     |█████████▊                      | 225kB 6.8MB/s eta 0:00:01\r\u001b[K     |██████████▏                     | 235kB 6.8MB/s eta 0:00:01\r\u001b[K     |██████████▌                     | 245kB 6.8MB/s eta 0:00:01\r\u001b[K     |███████████                     | 256kB 6.8MB/s eta 0:00:01\r\u001b[K     |███████████▍                    | 266kB 6.8MB/s eta 0:00:01\r\u001b[K     |███████████▉                    | 276kB 6.8MB/s eta 0:00:01\r\u001b[K     |████████████▎                   | 286kB 6.8MB/s eta 0:00:01\r\u001b[K     |████████████▊                   | 296kB 6.8MB/s eta 0:00:01\r\u001b[K     |█████████████▏                  | 307kB 6.8MB/s eta 0:00:01\r\u001b[K     |█████████████▋                  | 317kB 6.8MB/s eta 0:00:01\r\u001b[K     |██████████████                  | 327kB 6.8MB/s eta 0:00:01\r\u001b[K     |██████████████▌                 | 337kB 6.8MB/s eta 0:00:01\r\u001b[K     |███████████████                 | 348kB 6.8MB/s eta 0:00:01\r\u001b[K     |███████████████▍                | 358kB 6.8MB/s eta 0:00:01\r\u001b[K     |███████████████▉                | 368kB 6.8MB/s eta 0:00:01\r\u001b[K     |████████████████▎               | 378kB 6.8MB/s eta 0:00:01\r\u001b[K     |████████████████▊               | 389kB 6.8MB/s eta 0:00:01\r\u001b[K     |█████████████████▏              | 399kB 6.8MB/s eta 0:00:01\r\u001b[K     |█████████████████▋              | 409kB 6.8MB/s eta 0:00:01\r\u001b[K     |██████████████████              | 419kB 6.8MB/s eta 0:00:01\r\u001b[K     |██████████████████▌             | 430kB 6.8MB/s eta 0:00:01\r\u001b[K     |███████████████████             | 440kB 6.8MB/s eta 0:00:01\r\u001b[K     |███████████████████▍            | 450kB 6.8MB/s eta 0:00:01\r\u001b[K     |███████████████████▉            | 460kB 6.8MB/s eta 0:00:01\r\u001b[K     |████████████████████▎           | 471kB 6.8MB/s eta 0:00:01\r\u001b[K     |████████████████████▊           | 481kB 6.8MB/s eta 0:00:01\r\u001b[K     |█████████████████████           | 491kB 6.8MB/s eta 0:00:01\r\u001b[K     |█████████████████████▌          | 501kB 6.8MB/s eta 0:00:01\r\u001b[K     |██████████████████████          | 512kB 6.8MB/s eta 0:00:01\r\u001b[K     |██████████████████████▍         | 522kB 6.8MB/s eta 0:00:01\r\u001b[K     |██████████████████████▉         | 532kB 6.8MB/s eta 0:00:01\r\u001b[K     |███████████████████████▎        | 542kB 6.8MB/s eta 0:00:01\r\u001b[K     |███████████████████████▊        | 552kB 6.8MB/s eta 0:00:01\r\u001b[K     |████████████████████████▏       | 563kB 6.8MB/s eta 0:00:01\r\u001b[K     |████████████████████████▋       | 573kB 6.8MB/s eta 0:00:01\r\u001b[K     |█████████████████████████       | 583kB 6.8MB/s eta 0:00:01\r\u001b[K     |█████████████████████████▌      | 593kB 6.8MB/s eta 0:00:01\r\u001b[K     |██████████████████████████      | 604kB 6.8MB/s eta 0:00:01\r\u001b[K     |██████████████████████████▍     | 614kB 6.8MB/s eta 0:00:01\r\u001b[K     |██████████████████████████▉     | 624kB 6.8MB/s eta 0:00:01\r\u001b[K     |███████████████████████████▎    | 634kB 6.8MB/s eta 0:00:01\r\u001b[K     |███████████████████████████▊    | 645kB 6.8MB/s eta 0:00:01\r\u001b[K     |████████████████████████████▏   | 655kB 6.8MB/s eta 0:00:01\r\u001b[K     |████████████████████████████▋   | 665kB 6.8MB/s eta 0:00:01\r\u001b[K     |█████████████████████████████   | 675kB 6.8MB/s eta 0:00:01\r\u001b[K     |█████████████████████████████▌  | 686kB 6.8MB/s eta 0:00:01\r\u001b[K     |██████████████████████████████  | 696kB 6.8MB/s eta 0:00:01\r\u001b[K     |██████████████████████████████▍ | 706kB 6.8MB/s eta 0:00:01\r\u001b[K     |██████████████████████████████▉ | 716kB 6.8MB/s eta 0:00:01\r\u001b[K     |███████████████████████████████▏| 727kB 6.8MB/s eta 0:00:01\r\u001b[K     |███████████████████████████████▋| 737kB 6.8MB/s eta 0:00:01\r\u001b[K     |████████████████████████████████| 747kB 6.8MB/s \n",
            "\u001b[?25h  Building wheel for pyngrok (setup.py) ... \u001b[?25l\u001b[?25hdone\n"
          ],
          "name": "stdout"
        }
      ]
    },
    {
      "cell_type": "markdown",
      "metadata": {
        "id": "ic15OJwXw7Xv"
      },
      "source": [
        "##2° Instalar o Pacote para Implementação do nosso Sistema na WEB"
      ]
    },
    {
      "cell_type": "code",
      "metadata": {
        "id": "dSIEmVidDx_G",
        "colab": {
          "base_uri": "https://localhost:8080/"
        },
        "outputId": "39e558fe-2bcd-4444-c3ac-b887207e59b5"
      },
      "source": [
        "#instalação dos Pacotes para Implementação do nosso Sistema na WEB\n",
        "!pip install -q streamlit\n",
        "!pip install -q streamlit_ace\n"
      ],
      "execution_count": 3,
      "outputs": [
        {
          "output_type": "stream",
          "text": [
            "\u001b[K     |████████████████████████████████| 7.0MB 7.6MB/s \n",
            "\u001b[K     |████████████████████████████████| 163kB 41.0MB/s \n",
            "\u001b[K     |████████████████████████████████| 81kB 7.7MB/s \n",
            "\u001b[K     |████████████████████████████████| 4.6MB 36.9MB/s \n",
            "\u001b[K     |████████████████████████████████| 112kB 58.3MB/s \n",
            "\u001b[K     |████████████████████████████████| 71kB 9.0MB/s \n",
            "\u001b[K     |████████████████████████████████| 122kB 42.9MB/s \n",
            "\u001b[?25h  Building wheel for blinker (setup.py) ... \u001b[?25l\u001b[?25hdone\n",
            "\u001b[31mERROR: google-colab 1.0.0 has requirement ipykernel~=4.10, but you'll have ipykernel 5.5.0 which is incompatible.\u001b[0m\n",
            "\u001b[K     |████████████████████████████████| 3.9MB 7.7MB/s \n",
            "\u001b[?25h"
          ],
          "name": "stdout"
        }
      ]
    },
    {
      "cell_type": "markdown",
      "metadata": {
        "id": "FuX_oCBC2Ylp"
      },
      "source": [
        "## 3° Criar o Sistema  "
      ]
    },
    {
      "cell_type": "code",
      "metadata": {
        "id": "1ydtW0TPEY7t",
        "colab": {
          "base_uri": "https://localhost:8080/"
        },
        "outputId": "a865fb09-7b49-4a03-c5a2-9d90e34d087a"
      },
      "source": [
        "#Comando para Criar o Sistema no arquivo app.py\n",
        "%%writefile app.py\n",
        "\n",
        "#Importando Pacotes \n",
        "import pickle\n",
        "import streamlit as st\n",
        " \n",
        "# Carregando a Máquina Preditiva\n",
        "pickle_in = open('maquina_preditiva.pkl', 'rb') \n",
        "maquina_preditiva = pickle.load(pickle_in)\n",
        "\n",
        "#Manter a sessão em cache \n",
        "@st.cache()\n",
        "  \n",
        "# Criando a função que irá fazer a predição usando os dados impostados pelo usuário do Sistema \n",
        "def prediction(sexo, estado_civil, renda, emprestimo, historico_credito):   \n",
        " \n",
        "    # Pre-processando a entrada do Usuário    \n",
        "    if sexo == \"Masculino\":\n",
        "        sexo = 0\n",
        "    else:\n",
        "        sexo = 1\n",
        " \n",
        "    if estado_civil == \"Solteiro(a)\":\n",
        "        estado_civil = 0\n",
        "    else:\n",
        "        estado_civil = 1\n",
        " \n",
        "    if historico_credito == \"Débitos Pendentes\":\n",
        "        historico_credito = 0\n",
        "    else:\n",
        "        historico_credito = 1  \n",
        " \n",
        "    emprestimo = emprestimo / 1000\n",
        " \n",
        "    # Fazendo Predições\n",
        "    prediction = maquina_preditiva.predict( \n",
        "        [[sexo, estado_civil, renda, emprestimo, historico_credito]])\n",
        "     \n",
        "    if prediction == 0:\n",
        "        pred = 'Rejeitado'\n",
        "    else:\n",
        "        pred = 'Aprovado'\n",
        "    return pred\n",
        "      \n",
        "  \n",
        "# Essa função é para criação da webpage  \n",
        "def main():  \n",
        "\n",
        "    # Elementos da webpage\n",
        "    # Nesse Ponto vc deve Personalizar o Sistema com sua Marca\n",
        "    html_temp = \"\"\" \n",
        "    <div style =\"background-color:blue;padding:13px\"> \n",
        "    <h1 style =\"color:white;text-align:center;\">SAE</h1> \n",
        "    <h2 style =\"color:white;text-align:center;\">Sistema de Aprovação de Empréstimos - by Michelle </h2> \n",
        "    </div> \n",
        "    \"\"\"\n",
        "      \n",
        "    # Função do stramlit que faz o display da webpage\n",
        "    st.markdown(html_temp, unsafe_allow_html = True) \n",
        "      \n",
        "    # As linhas abaixo criam as caixas na qual o usuário vai entrar com dados da pessoa que quer o empréstimo para fazer a Predição\n",
        "    sexo = st.selectbox('Sexo',(\"Masculino\",\"Feminino\"))\n",
        "    estado_civil = st.selectbox('Estado Civil',(\"Solteiro(a)\",\"Casado(a)\")) \n",
        "    renda = st.number_input(\"Renda Mensal\") \n",
        "    emprestimo = st.number_input(\"Valor Total do Empréstimo\")\n",
        "    historico_credito = st.selectbox('Histórico de Créditos',(\"Sem Débitos\",\"Débitos Pendentes\"))\n",
        "    result =\"\"\n",
        "      \n",
        "    #Quando o Usuário clicar no botão \"Verificar\" a Máquina Preditiva faz seu trabalho\n",
        "    if st.button(\"Verificar\"): \n",
        "        result = prediction(sexo, estado_civil, renda, emprestimo, historico_credito) \n",
        "        st.success('O empréstimo foi {}'.format(result))\n",
        "        print(emprestimo)\n",
        "     \n",
        "if __name__=='__main__': \n",
        "    main()\n"
      ],
      "execution_count": 4,
      "outputs": [
        {
          "output_type": "stream",
          "text": [
            "Writing app.py\n"
          ],
          "name": "stdout"
        }
      ]
    },
    {
      "cell_type": "markdown",
      "metadata": {
        "id": "BEDDT7-SxQ_V"
      },
      "source": [
        "##4° Executar o Sistema"
      ]
    },
    {
      "cell_type": "code",
      "metadata": {
        "id": "XZNzucf0EZIa"
      },
      "source": [
        "#Executa o sistema\n",
        "!streamlit run app.py &>/dev/null&"
      ],
      "execution_count": 5,
      "outputs": []
    },
    {
      "cell_type": "markdown",
      "metadata": {
        "id": "QwFdBpu_xamW"
      },
      "source": [
        "##5° Criar a Conexão do nosso Sistema na WEB"
      ]
    },
    {
      "cell_type": "code",
      "metadata": {
        "id": "LZ5jaY4GGC88"
      },
      "source": [
        "# Importando a Biblioteca para Conexão do nosso Sistema na WEB \n",
        "from pyngrok import ngrok"
      ],
      "execution_count": 6,
      "outputs": []
    },
    {
      "cell_type": "markdown",
      "metadata": {
        "id": "zyWvfoAMxhAc"
      },
      "source": [
        "##6° Publicar nosso Sistema numa URL"
      ]
    },
    {
      "cell_type": "code",
      "metadata": {
        "id": "r8VfOxWzUmiK",
        "colab": {
          "base_uri": "https://localhost:8080/"
        },
        "outputId": "0a4beb14-f18b-4c4e-fcc8-089137ac84fa"
      },
      "source": [
        "#Publica o sistema numa URL\n",
        "public_url = ngrok.connect('8501')"
      ],
      "execution_count": 7,
      "outputs": [
        {
          "output_type": "stream",
          "text": [
            ""
          ],
          "name": "stdout"
        }
      ]
    },
    {
      "cell_type": "markdown",
      "metadata": {
        "id": "6VgBGpnUxn9u"
      },
      "source": [
        "##7° Abrir o Sistema via Link que contém a palavra ngrok.io"
      ]
    },
    {
      "cell_type": "code",
      "metadata": {
        "id": "i3xz6K0kTsiG",
        "colab": {
          "base_uri": "https://localhost:8080/"
        },
        "outputId": "e74238c8-28f7-4d84-a76a-ae4de366e07f"
      },
      "source": [
        "#URL do sistema\n",
        "public_url"
      ],
      "execution_count": 8,
      "outputs": [
        {
          "output_type": "execute_result",
          "data": {
            "text/plain": [
              "<NgrokTunnel: \"http://35e2c63d1474.ngrok.io\" -> \"http://localhost:8501\">"
            ]
          },
          "metadata": {
            "tags": []
          },
          "execution_count": 8
        }
      ]
    },
    {
      "cell_type": "markdown",
      "metadata": {
        "id": "6Mp2HsHhIj-c"
      },
      "source": [
        "# <font color='Black'> **Aula 4 - O GPS: Se tornando um Cientista de Dados** </font>\n",
        "![](https://cdn.dribbble.com/users/355826/screenshots/8809323/media/2b721f9539eba3c7597f2a7f380ed56b.gif)\n",
        "\n",
        "![](https://techcrunch.com/wp-content/uploads/2020/01/spacex-starlink-launch-jan-20.gif?w=730&crop=1)\n",
        "\n",
        "![](https://cdn.dribbble.com/users/364457/screenshots/5437045/playsharp-timer-dribbble.gif)"
      ]
    },
    {
      "cell_type": "markdown",
      "metadata": {
        "id": "XTRc7NjBKG65"
      },
      "source": [
        "# Fim"
      ]
    }
  ]
}